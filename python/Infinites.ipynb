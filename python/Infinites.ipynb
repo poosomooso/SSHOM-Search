{
 "cells": [
  {
   "cell_type": "code",
   "execution_count": 1,
   "metadata": {},
   "outputs": [
    {
     "name": "stderr",
     "output_type": "stream",
     "text": [
      "/home/serena/MiscCS/anaconda3/lib/python3.6/importlib/_bootstrap.py:205: RuntimeWarning: numpy.dtype size changed, may indicate binary incompatibility. Expected 96, got 88\n",
      "  return f(*args, **kwds)\n"
     ]
    }
   ],
   "source": [
    "import matplotlib.pyplot as plt\n",
    "import pandas as pd\n",
    "from collections import Counter"
   ]
  },
  {
   "cell_type": "code",
   "execution_count": 2,
   "metadata": {},
   "outputs": [
    {
     "name": "stdout",
     "output_type": "stream",
     "text": [
      "FOMs that cause inf loops: 26\n"
     ]
    }
   ],
   "source": [
    "foms_str = \"\"\"_M_Dados_mut16\n",
    "_M_Dados_mut17\n",
    "_M_Dados_mut18\n",
    "_M_Dados_mut19\n",
    "_M_Dados_mut13\n",
    "_M_Dados_mut14\n",
    "_M_Dados_mut15\n",
    "_M_Dados_mut20\n",
    "_M_Tablero_mut5\n",
    "_M_Tablero_mut8\n",
    "_M_Tablero_mut9\n",
    "_M_Jugador_mut0\n",
    "_M_Jugador_mut19\n",
    "_M_Jugador_mut16\n",
    "_M_Jugador_mut15\n",
    "_M_Jugador_mut20\n",
    "_M_Tablero_mut21\n",
    "_M_Tablero_mut41\n",
    "_M_Tablero_mut43\n",
    "_M_Tablero_mut44\n",
    "_M_Tablero_mut45\n",
    "_M_Tablero_mut10\n",
    "_M_Tablero_mut12\n",
    "_M_Tablero_mut13\n",
    "_M_Tablero_mut15\n",
    "_M_Tablero_mut18\"\"\"\n",
    "\n",
    "inf_foms = foms_str.split(\"\\n\")\n",
    "print(\"FOMs that cause inf loops:\", len(inf_foms))"
   ]
  },
  {
   "cell_type": "code",
   "execution_count": 3,
   "metadata": {},
   "outputs": [
    {
     "name": "stdout",
     "output_type": "stream",
     "text": [
      "Num sampled HOMs: 2349\n"
     ]
    }
   ],
   "source": [
    "with open(\"sampled_2oms.txt\") as f:\n",
    "    hom_str = f.read()\n",
    "\n",
    "some_inf_2oms = hom_str.split(\"\\n\")\n",
    "print(\"Num sampled HOMs:\", len(some_inf_2oms))"
   ]
  },
  {
   "cell_type": "code",
   "execution_count": 4,
   "metadata": {},
   "outputs": [
    {
     "name": "stdout",
     "output_type": "stream",
     "text": [
      "HOMs that included a FOM in previous set: 2181\n",
      "HOMs that did NOT include a FOM in previous set: 168\n"
     ]
    }
   ],
   "source": [
    "fom_set = set(inf_foms)\n",
    "with_inf_foms = []\n",
    "without_inf_foms = []\n",
    "\n",
    "for hom in some_inf_2oms:\n",
    "    comprised_foms = hom.split(\" \")\n",
    "    contains_inf_fom = False\n",
    "    for f in comprised_foms:\n",
    "        if f in fom_set:\n",
    "            contains_inf_fom = True\n",
    "    \n",
    "    if contains_inf_fom:\n",
    "        with_inf_foms.append(hom)\n",
    "    else:    \n",
    "        without_inf_foms.append(hom)\n",
    "\n",
    "print(\"HOMs that included a FOM in previous set:\", len(with_inf_foms))\n",
    "print(\"HOMs that did NOT include a FOM in previous set:\", len(without_inf_foms))"
   ]
  },
  {
   "cell_type": "code",
   "execution_count": 5,
   "metadata": {},
   "outputs": [
    {
     "data": {
      "text/plain": [
       "['_M_Jugador_mut109 _M_Dados_mut21',\n",
       " '_M_Jugador_mut109 _M_Tablero_mut20',\n",
       " '_M_Jugador_mut109 _M_Tablero_mut22',\n",
       " '_M_Jugador_mut106 _M_Dados_mut21',\n",
       " '_M_Jugador_mut106 _M_Tablero_mut20',\n",
       " '_M_Jugador_mut105 _M_Tablero_mut22',\n",
       " '_M_Jugador_mut105 _M_Tablero_mut26',\n",
       " '_M_Jugador_mut105 _M_Tablero_mut16',\n",
       " '_M_Jugador_mut108 _M_Dados_mut21',\n",
       " '_M_Jugador_mut108 _M_Tablero_mut20',\n",
       " '_M_Jugador_mut108 _M_Calle_mut21',\n",
       " '_M_Jugador_mut107 _M_Dados_mut21',\n",
       " '_M_Jugador_mut107 _M_Tablero_mut22',\n",
       " '_M_Jugador_mut102 _M_Dados_mut21',\n",
       " '_M_Jugador_mut102 _M_Tablero_mut20',\n",
       " '_M_Jugador_mut102 _M_Tablero_mut16',\n",
       " '_M_Jugador_mut101 _M_Dados_mut21',\n",
       " '_M_Jugador_mut101 _M_Jugador_mut3',\n",
       " '_M_Jugador_mut101 _M_Tablero_mut16',\n",
       " '_M_Jugador_mut104 _M_Dados_mut21',\n",
       " '_M_Jugador_mut104 _M_Tablero_mut22',\n",
       " '_M_Jugador_mut104 _M_Tablero_mut16',\n",
       " '_M_Jugador_mut103 _M_Tablero_mut22',\n",
       " '_M_Jugador_mut103 _M_Tablero_mut16',\n",
       " '_M_Calle_mut6 _M_Tablero_mut22',\n",
       " '_M_Calle_mut4 _M_Tablero_mut16',\n",
       " '_M_Calle_mut9 _M_Tablero_mut16',\n",
       " '_M_Calle_mut7 _M_Jugador_mut3',\n",
       " '_M_Calle_mut8 _M_Dados_mut21',\n",
       " '_M_Calle_mut1 _M_Jugador_mut166',\n",
       " '_M_Calle_mut1 _M_Dados_mut21',\n",
       " '_M_Calle_mut1 _M_Tablero_mut16',\n",
       " '_M_Calle_mut2 _M_Tablero_mut22',\n",
       " '_M_Calle_mut2 _M_Tablero_mut16',\n",
       " '_M_Calle_mut0 _M_Dados_mut21',\n",
       " '_M_Calle_mut0 _M_Tablero_mut16',\n",
       " '_M_Tablero_mut80 _M_Tablero_mut16',\n",
       " '_M_Tablero_mut70 _M_Dados_mut21',\n",
       " '_M_Tablero_mut70 _M_Tablero_mut25',\n",
       " '_M_Tablero_mut70 _M_Tablero_mut16',\n",
       " '_M_Tablero_mut71 _M_Tablero_mut16',\n",
       " '_M_Tablero_mut72 _M_Dados_mut21',\n",
       " '_M_Tablero_mut73 _M_Dados_mut21',\n",
       " '_M_Tablero_mut73 _M_Tablero_mut16',\n",
       " '_M_Tablero_mut74 _M_Tablero_mut16',\n",
       " '_M_Jugador_mut128 _M_Dados_mut21',\n",
       " '_M_Jugador_mut128 _M_Tablero_mut16',\n",
       " '_M_Tablero_mut75 _M_Tablero_mut22',\n",
       " '_M_Tablero_mut75 _M_Tablero_mut16',\n",
       " '_M_Jugador_mut127 _M_Tablero_mut16',\n",
       " '_M_Tablero_mut76 _M_Tablero_mut16',\n",
       " '_M_Tablero_mut77 _M_Dados_mut21',\n",
       " '_M_Tablero_mut77 _M_Tablero_mut16',\n",
       " '_M_Tablero_mut78 _M_Tablero_mut20',\n",
       " '_M_Tablero_mut78 _M_Tablero_mut16',\n",
       " '_M_Jugador_mut124 _M_Tablero_mut22',\n",
       " '_M_Tablero_mut79 _M_Tablero_mut19',\n",
       " '_M_Jugador_mut123 _M_Dados_mut21',\n",
       " '_M_Jugador_mut125 _M_Dados_mut21',\n",
       " '_M_Jugador_mut125 _M_Tablero_mut16',\n",
       " '_M_Jugador_mut120 _M_Dados_mut21',\n",
       " '_M_Jugador_mut120 _M_Tablero_mut16',\n",
       " '_M_Jugador_mut122 _M_Tablero_mut22',\n",
       " '_M_Jugador_mut122 _M_Tablero_mut16',\n",
       " '_M_Jugador_mut121 _M_Tablero_mut16',\n",
       " '_M_Tablero_mut121 _M_Calle_mut11',\n",
       " '_M_Tablero_mut121 _M_Tablero_mut16',\n",
       " '_M_Tablero_mut120 _M_Tablero_mut16',\n",
       " '_M_Tablero_mut122 _M_Dados_mut21',\n",
       " '_M_Tablero_mut122 _M_Tablero_mut16',\n",
       " '_M_Tablero_mut60 _M_Tablero_mut20',\n",
       " '_M_Tablero_mut60 _M_Tablero_mut19',\n",
       " '_M_Tablero_mut61 _M_Dados_mut21',\n",
       " '_M_Tablero_mut61 _M_Tablero_mut20',\n",
       " '_M_Tablero_mut62 _M_Dados_mut21',\n",
       " '_M_Tablero_mut63 _M_Tablero_mut16',\n",
       " '_M_Jugador_mut117 _M_Tablero_mut16',\n",
       " '_M_Jugador_mut119 _M_Dados_mut21',\n",
       " '_M_Jugador_mut119 _M_Tablero_mut22',\n",
       " '_M_Tablero_mut66 _M_Dados_mut21',\n",
       " '_M_Tablero_mut66 _M_Tablero_mut16',\n",
       " '_M_Jugador_mut118 _M_Dados_mut21',\n",
       " '_M_Tablero_mut68 _M_Dados_mut21',\n",
       " '_M_Jugador_mut112 _M_Tablero_mut20',\n",
       " '_M_Tablero_mut69 _M_Dados_mut21',\n",
       " '_M_Tablero_mut69 _M_Tablero_mut22',\n",
       " '_M_Tablero_mut69 _M_Tablero_mut16',\n",
       " '_M_Jugador_mut115 _M_Dados_mut21',\n",
       " '_M_Jugador_mut115 _M_Tablero_mut16',\n",
       " '_M_Jugador_mut114 _M_Dados_mut21',\n",
       " '_M_Jugador_mut111 _M_Dados_mut21',\n",
       " '_M_Jugador_mut111 _M_Tablero_mut26',\n",
       " '_M_Jugador_mut111 _M_Tablero_mut16',\n",
       " '_M_Jugador_mut110 _M_Jugador_mut166',\n",
       " '_M_Tablero_mut110 _M_Dados_mut21',\n",
       " '_M_Tablero_mut110 _M_Tablero_mut16',\n",
       " '_M_Tablero_mut111 _M_Tablero_mut25',\n",
       " '_M_Tablero_mut114 _M_Dados_mut21',\n",
       " '_M_Tablero_mut114 _M_Tablero_mut22',\n",
       " '_M_Tablero_mut113 _M_Tablero_mut16',\n",
       " '_M_Tablero_mut116 _M_Dados_mut21',\n",
       " '_M_Tablero_mut115 _M_Tablero_mut20',\n",
       " '_M_Tablero_mut115 _M_Calle_mut21',\n",
       " '_M_Tablero_mut115 _M_Tablero_mut19',\n",
       " '_M_Tablero_mut92 _M_Tablero_mut20',\n",
       " '_M_Tablero_mut92 _M_Tablero_mut22',\n",
       " '_M_Estacion_mut9 _M_Dados_mut21',\n",
       " '_M_Tablero_mut94 _M_Tablero_mut16',\n",
       " '_M_Estacion_mut6 _M_Jugador_mut166',\n",
       " '_M_Estacion_mut6 _M_Dados_mut21',\n",
       " '_M_Estacion_mut6 _M_Tablero_mut22',\n",
       " '_M_Estacion_mut6 _M_Tablero_mut16',\n",
       " '_M_Estacion_mut7 _M_Dados_mut21',\n",
       " '_M_Estacion_mut7 _M_Tablero_mut22',\n",
       " '_M_Tablero_mut96 _M_Tablero_mut20',\n",
       " '_M_Tablero_mut96 _M_Tablero_mut16',\n",
       " '_M_Tablero_mut97 _M_Jugador_mut166',\n",
       " '_M_Tablero_mut97 _M_Dados_mut21',\n",
       " '_M_Tablero_mut97 _M_Tablero_mut23',\n",
       " '_M_Tablero_mut97 _M_Tablero_mut16',\n",
       " '_M_Jugador_mut149 _M_Dados_mut21',\n",
       " '_M_Jugador_mut149 _M_Tablero_mut20',\n",
       " '_M_Jugador_mut149 _M_Tablero_mut22',\n",
       " '_M_Tablero_mut98 _M_Tablero_mut22',\n",
       " '_M_Tablero_mut99 _M_Dados_mut21',\n",
       " '_M_Tablero_mut118 _M_Dados_mut21',\n",
       " '_M_Tablero_mut118 _M_Tablero_mut16',\n",
       " '_M_Estacion_mut0 _M_Dados_mut21',\n",
       " '_M_Estacion_mut0 _M_Tablero_mut22',\n",
       " '_M_Estacion_mut0 _M_Tablero_mut25',\n",
       " '_M_Jugador_mut146 _M_Dados_mut21',\n",
       " '_M_Tablero_mut117 _M_Dados_mut21',\n",
       " '_M_Tablero_mut117 _M_Tablero_mut20',\n",
       " '_M_Tablero_mut117 _M_Tablero_mut25',\n",
       " '_M_Tablero_mut117 _M_Tablero_mut16',\n",
       " '_M_Estacion_mut1 _M_Tablero_mut20',\n",
       " '_M_Estacion_mut1 _M_Calle_mut21',\n",
       " '_M_Estacion_mut1 _M_Tablero_mut16',\n",
       " '_M_Jugador_mut145 _M_Tablero_mut16',\n",
       " '_M_Jugador_mut148 _M_Dados_mut21',\n",
       " '_M_Jugador_mut148 _M_Tablero_mut25',\n",
       " '_M_Jugador_mut148 _M_Tablero_mut16',\n",
       " '_M_Tablero_mut119 _M_Dados_mut21',\n",
       " '_M_Estacion_mut4 _M_Jugador_mut166',\n",
       " '_M_Estacion_mut4 _M_Tablero_mut22',\n",
       " '_M_Estacion_mut4 _M_Tablero_mut16',\n",
       " '_M_Jugador_mut142 _M_Jugador_mut166',\n",
       " '_M_Estacion_mut5 _M_Dados_mut21',\n",
       " '_M_Estacion_mut5 _M_Jugador_mut3',\n",
       " '_M_Estacion_mut5 _M_Tablero_mut16',\n",
       " '_M_Jugador_mut141 _M_Tablero_mut16',\n",
       " '_M_Estacion_mut2 _M_Dados_mut21',\n",
       " '_M_Estacion_mut2 _M_Tablero_mut16',\n",
       " '_M_Jugador_mut144 _M_Dados_mut21',\n",
       " '_M_Jugador_mut144 _M_Tablero_mut22',\n",
       " '_M_Estacion_mut3 _M_Tablero_mut22',\n",
       " '_M_Barrio_mut0 _M_Tablero_mut20',\n",
       " '_M_Barrio_mut0 _M_Tablero_mut22',\n",
       " '_M_Tablero_mut101 _M_Tablero_mut16',\n",
       " '_M_Tablero_mut100 _M_Dados_mut21',\n",
       " '_M_Tablero_mut100 _M_Tablero_mut16',\n",
       " '_M_Tablero_mut103 _M_Tablero_mut25',\n",
       " '_M_Tablero_mut102 _M_Jugador_mut3',\n",
       " '_M_Tablero_mut102 _M_Tablero_mut16',\n",
       " '_M_Tablero_mut105 _M_Tablero_mut16',\n",
       " '_M_Tablero_mut104 _M_Tablero_mut20',\n",
       " '_M_Tablero_mut90 _M_Dados_mut21',\n",
       " '_M_Tablero_mut91 _M_Dados_mut21']"
      ]
     },
     "execution_count": 5,
     "metadata": {},
     "output_type": "execute_result"
    }
   ],
   "source": [
    "without_inf_foms"
   ]
  },
  {
   "cell_type": "code",
   "execution_count": 6,
   "metadata": {},
   "outputs": [
    {
     "name": "stdout",
     "output_type": "stream",
     "text": [
      "unique FOMs from HOMs that do not contain FOMs from the previous set: 106\n"
     ]
    }
   ],
   "source": [
    "not_included_foms = set()\n",
    "for hom in without_inf_foms:\n",
    "    comprised_foms = hom.split(\" \")\n",
    "    for f in comprised_foms:\n",
    "        not_included_foms.add(f)\n",
    "# print(not_included_foms)\n",
    "print(\"unique FOMs from HOMs that do not contain FOMs from the previous set:\", len(not_included_foms))"
   ]
  },
  {
   "cell_type": "code",
   "execution_count": 21,
   "metadata": {},
   "outputs": [
    {
     "name": "stdout",
     "output_type": "stream",
     "text": [
      "                   count\n",
      "_M_Tablero_mut16      53\n",
      "_M_Dados_mut21        50\n",
      "_M_Tablero_mut22      23\n",
      "_M_Tablero_mut20      16\n",
      "_M_Tablero_mut25       6\n",
      "_M_Jugador_mut166      6\n",
      "_M_Estacion_mut6       4\n",
      "_M_Tablero_mut97       4\n",
      "_M_Tablero_mut117      4\n",
      "_M_Jugador_mut3        4\n"
     ]
    },
    {
     "data": {
      "image/png": "[encoded data removed]",
      "text/plain": [
       "<matplotlib.figure.Figure at 0x7fcb0f40aef0>"
      ]
     },
     "metadata": {},
     "output_type": "display_data"
    }
   ],
   "source": [
    "flattened_homs = []\n",
    "\n",
    "for hom in without_inf_foms:\n",
    "    comprised_foms = hom.split(\" \")\n",
    "    for f in comprised_foms:\n",
    "        flattened_homs.append(f)\n",
    "\n",
    "fom_count = Counter(flattened_homs)\n",
    "df = pd.DataFrame.from_dict(fom_count, orient='index', columns=[\"count\"])\n",
    "df.sort_values(\"count\", ascending=False, inplace=True)\n",
    "print(df.head(10))\n",
    "df.plot(kind='bar', figsize=(20,8))\n",
    "plt.show()"
   ]
  },
  {
   "cell_type": "code",
   "execution_count": 23,
   "metadata": {},
   "outputs": [
    {
     "name": "stdout",
     "output_type": "stream",
     "text": [
      "HOMs that included a FOM in previous set: 2335\n",
      "HOMs that did NOT include a FOM in previous set: 14\n"
     ]
    }
   ],
   "source": [
    "fom_set.add(\"_M_Tablero_mut16\")\n",
    "fom_set.add(\"_M_Dados_mut21\")\n",
    "fom_set.add(\"_M_Tablero_mut22\")\n",
    "fom_set.add(\"_M_Tablero_mut20\")\n",
    "fom_set.add(\"_M_Tablero_mut25\")\n",
    "fom_set.add(\"_M_Jugador_mut166\")\n",
    "\n",
    "new_with_inf_foms = []\n",
    "new_without_inf_foms = []\n",
    "\n",
    "for hom in some_inf_2oms:\n",
    "    comprised_foms = hom.split(\" \")\n",
    "    contains_inf_fom = False\n",
    "    for f in comprised_foms:\n",
    "        if f in fom_set:\n",
    "            contains_inf_fom = True\n",
    "    \n",
    "    if contains_inf_fom:\n",
    "        new_with_inf_foms.append(hom)\n",
    "    else:    \n",
    "        new_without_inf_foms.append(hom)\n",
    "\n",
    "print(\"HOMs that included a FOM in previous set:\", len(new_with_inf_foms))\n",
    "print(\"HOMs that did NOT include a FOM in previous set:\", len(new_without_inf_foms))"
   ]
  }
 ],
 "metadata": {
  "kernelspec": {
   "display_name": "Python 3",
   "language": "python",
   "name": "python3"
  },
  "language_info": {
   "codemirror_mode": {
    "name": "ipython",
    "version": 3
   },
   "file_extension": ".py",
   "mimetype": "text/x-python",
   "name": "python",
   "nbconvert_exporter": "python",
   "pygments_lexer": "ipython3",
   "version": "3.6.1"
  }
 },
 "nbformat": 4,
 "nbformat_minor": 2
}
